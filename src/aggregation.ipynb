{
  "nbformat": 4,
  "nbformat_minor": 0,
  "metadata": {
    "colab": {
      "name": "aggregation.ipynb",
      "provenance": [],
      "collapsed_sections": []
    },
    "kernelspec": {
      "name": "python3",
      "display_name": "Python 3"
    },
    "language_info": {
      "name": "python"
    }
  },
  "cells": [
    {
      "cell_type": "code",
      "metadata": {
        "id": "9WWetqF14Pr_"
      },
      "source": [
        "import pandas as pd\n",
        "import numpy as np\n",
        "\n",
        "#aggregation_sample_input is a csv file with relevant columns audioId, workerId, rating, QC code, age, state located in, and gender\n",
        "\n",
        "df = pd.read_csv(\"aggregation_sample_input.csv\")\n",
        "\n",
        "df_mean = df.groupby([\"audioId\"], as_index=False)[\"rating\"].mean()\n",
        "\n",
        "df_ranked = df_mean.sort_values('rating', ascending=False)\n",
        "\n",
        "df_ranked.to_csv('aggregation_sample_output.csv', index=False)"
      ],
      "execution_count": null,
      "outputs": []
    }
  ]
}