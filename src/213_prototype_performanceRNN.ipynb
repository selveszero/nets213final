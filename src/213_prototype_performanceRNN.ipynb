{
  "nbformat": 4,
  "nbformat_minor": 0,
  "metadata": {
    "colab": {
      "name": "213_prototype_performanceRNN.ipynb",
      "provenance": [],
      "collapsed_sections": []
    },
    "kernelspec": {
      "name": "python3",
      "display_name": "Python 3"
    },
    "language_info": {
      "name": "python"
    },
    "accelerator": "GPU"
  },
  "cells": [
    {
      "cell_type": "code",
      "metadata": {
        "id": "khdBrtTnjLzz"
      },
      "source": [
        "# upload magenta-master.zip to google drive and unzip it\n",
        "# !unzip -q magenta-master.zip"
      ],
      "execution_count": null,
      "outputs": []
    },
    {
      "cell_type": "code",
      "metadata": {
        "colab": {
          "base_uri": "https://localhost:8080/"
        },
        "id": "tp5MxV_figgk",
        "outputId": "3672a384-17b1-4a31-8772-876a7ea63d4e"
      },
      "source": [
        "from google.colab import drive\n",
        "drive.mount('/content/gdrive')"
      ],
      "execution_count": null,
      "outputs": [
        {
          "output_type": "stream",
          "text": [
            "Drive already mounted at /content/gdrive; to attempt to forcibly remount, call drive.mount(\"/content/gdrive\", force_remount=True).\n"
          ],
          "name": "stdout"
        }
      ]
    },
    {
      "cell_type": "code",
      "metadata": {
        "colab": {
          "base_uri": "https://localhost:8080/"
        },
        "id": "rh2w78Eaj8zi",
        "outputId": "6bffa04e-8b99-4afd-c86c-16f5d0693fb0"
      },
      "source": [
        "%cd gdrive/MyDrive"
      ],
      "execution_count": null,
      "outputs": [
        {
          "output_type": "stream",
          "text": [
            "/content/gdrive/MyDrive\n"
          ],
          "name": "stdout"
        }
      ]
    },
    {
      "cell_type": "code",
      "metadata": {
        "colab": {
          "base_uri": "https://localhost:8080/"
        },
        "id": "0zu-YPNakSMI",
        "outputId": "018bd4a7-2d18-4fde-b01f-5c3ec0e3671f"
      },
      "source": [
        "# also open up this directory in google drive to get the outputs\n",
        "%cd magenta-master/\n",
        "%cd magenta/models/performance_rnn/"
      ],
      "execution_count": null,
      "outputs": [
        {
          "output_type": "stream",
          "text": [
            "/content/gdrive/MyDrive/magenta-master\n",
            "/content/gdrive/MyDrive/magenta-master/magenta/models/performance_rnn\n"
          ],
          "name": "stdout"
        }
      ]
    },
    {
      "cell_type": "code",
      "metadata": {
        "id": "4q3E-zVTfC-n"
      },
      "source": [
        "!pip install magenta"
      ],
      "execution_count": null,
      "outputs": []
    },
    {
      "cell_type": "markdown",
      "metadata": {
        "id": "bdmEqIg41yW4"
      },
      "source": [
        "num_outputs = The number of tracks to generate. One MIDI file will be created for each\n",
        "\n",
        "num_steps = The total number of steps the generated track should be, priming track length + generated steps. Each step is 10 milliseconds.\n",
        "\n",
        "The current primer 'starter_15s.midi' is 15 seconds. There's another shorter and faster one 'starter_8s.midi'. You guys can find a better one that has multiple instruments. This model can handle polyphony.\n",
        "\n",
        "After selecting the best generated music from each iteration on MTurk, use the best music from the output directory as the new primer and change the primer_time to its duration."
      ]
    },
    {
      "cell_type": "code",
      "metadata": {
        "id": "T_8xN3sefBxt"
      },
      "source": [
        "BUNDLE_PATH='./performance_with_dynamics.mag'\n",
        "CONFIG='performance_with_dynamics'"
      ],
      "execution_count": null,
      "outputs": []
    },
    {
      "cell_type": "markdown",
      "metadata": {
        "id": "tmWiupVIMXvW"
      },
      "source": [
        "# Parameters To Change "
      ]
    },
    {
      "cell_type": "code",
      "metadata": {
        "id": "O2ryTgvn2y47"
      },
      "source": [
        "# change the primer time and path after each iteration\n",
        "primer_time = 8\n",
        "PRIMER_PATH = './starter_8s.midi'\n",
        "# PRIMER_PATH = './model_out/2021-04-27_062830_01.mid'\n",
        "iter_num = 1\n",
        "\n",
        "# keep these parameters fixed accross iterations\n",
        "gen_new_time = 15\n",
        "n_outputs = 15\n",
        "\n",
        "# no change\n",
        "num_steps = (primer_time + gen_new_time) * 100 \n",
        "out_dir = './model_out/iter' + str(iter_num) + '/'\n",
        "mp3_out_dir = './QC_out/mp3_out/iter' + str(iter_num) + '/'"
      ],
      "execution_count": null,
      "outputs": []
    },
    {
      "cell_type": "markdown",
      "metadata": {
        "id": "ZGwWBSgVMj-G"
      },
      "source": [
        "# Generate"
      ]
    },
    {
      "cell_type": "code",
      "metadata": {
        "colab": {
          "base_uri": "https://localhost:8080/"
        },
        "id": "xFxGJQsefUvZ",
        "outputId": "a764d82d-b7f2-4c56-e7e1-424501ff887d"
      },
      "source": [
        "!python performance_rnn_generate.py \\\n",
        "--config={CONFIG} \\\n",
        "--bundle_file={BUNDLE_PATH} \\\n",
        "--output_dir={out_dir} \\\n",
        "--num_outputs={n_outputs} \\\n",
        "--num_steps={num_steps} \\\n",
        "--primer_midi={PRIMER_PATH}"
      ],
      "execution_count": null,
      "outputs": [
        {
          "output_type": "stream",
          "text": [
            "2021-04-27 18:45:40.146180: I tensorflow/stream_executor/platform/default/dso_loader.cc:49] Successfully opened dynamic library libcudart.so.11.0\n",
            "/usr/local/lib/python3.7/dist-packages/librosa/util/decorators.py:9: NumbaDeprecationWarning: An import was requested from a module that has moved location.\n",
            "Import requested from: 'numba.decorators', please update to use 'numba.core.decorators' or pin to Numba version 0.48.0. This alias will not be present in Numba version 0.50.0.\n",
            "  from numba.decorators import jit as optional_jit\n",
            "/usr/local/lib/python3.7/dist-packages/librosa/util/decorators.py:9: NumbaDeprecationWarning: An import was requested from a module that has moved location.\n",
            "Import of 'jit' requested from: 'numba.decorators', please update to use 'numba.core.decorators' or pin to Numba version 0.48.0. This alias will not be present in Numba version 0.50.0.\n",
            "  from numba.decorators import jit as optional_jit\n",
            "WARNING:tensorflow:From /usr/local/lib/python3.7/dist-packages/tensorflow/python/compat/v2_compat.py:96: disable_resource_variables (from tensorflow.python.ops.variable_scope) is deprecated and will be removed in a future version.\n",
            "Instructions for updating:\n",
            "non-resource variables are not supported in the long term\n",
            "2021-04-27 18:45:44.911111: I tensorflow/compiler/jit/xla_cpu_device.cc:41] Not creating XLA devices, tf_xla_enable_xla_devices not set\n",
            "2021-04-27 18:45:44.927410: I tensorflow/stream_executor/platform/default/dso_loader.cc:49] Successfully opened dynamic library libcuda.so.1\n",
            "2021-04-27 18:45:45.007093: E tensorflow/stream_executor/cuda/cuda_driver.cc:328] failed call to cuInit: CUDA_ERROR_NO_DEVICE: no CUDA-capable device is detected\n",
            "2021-04-27 18:45:45.007274: I tensorflow/stream_executor/cuda/cuda_diagnostics.cc:156] kernel driver does not appear to be running on this host (a071adae4ca1): /proc/driver/nvidia/version does not exist\n",
            "2021-04-27 18:45:45.013559: I tensorflow/compiler/jit/xla_gpu_device.cc:99] Not creating XLA devices, tf_xla_enable_xla_devices not set\n",
            "WARNING:tensorflow:The saved meta_graph is possibly from an older release:\n",
            "'model_variables' collection should be of type 'byte_list', but instead is of type 'node_list'.\n",
            "W0427 18:45:45.137095 140525530965888 meta_graph.py:882] The saved meta_graph is possibly from an older release:\n",
            "'model_variables' collection should be of type 'byte_list', but instead is of type 'node_list'.\n",
            "INFO:tensorflow:Restoring parameters from /tmp/tmpv83hj3yk/model.ckpt\n",
            "I0427 18:45:45.139015 140525530965888 saver.py:1292] Restoring parameters from /tmp/tmpv83hj3yk/model.ckpt\n",
            "2021-04-27 18:45:45.142222: I tensorflow/compiler/mlir/mlir_graph_optimization_pass.cc:196] None of the MLIR optimization passes are enabled (registered 0 passes)\n",
            "2021-04-27 18:45:45.176411: I tensorflow/core/platform/profile_utils/cpu_utils.cc:112] CPU Frequency: 2299995000 Hz\n",
            "INFO:tensorflow:Need to generate 1499 more steps for this sequence, will try asking for 900 RNN steps\n",
            "I0427 18:45:45.365635 140525530965888 performance_sequence_generator.py:240] Need to generate 1499 more steps for this sequence, will try asking for 900 RNN steps\n",
            "INFO:tensorflow:Beam search yields sequence with log-likelihood: -2355.253662 \n",
            "I0427 18:45:49.981399 140525530965888 events_rnn_model.py:381] Beam search yields sequence with log-likelihood: -2355.253662 \n",
            "INFO:tensorflow:Need to generate 76 more steps for this sequence, will try asking for 46 RNN steps\n",
            "I0427 18:45:49.982624 140525530965888 performance_sequence_generator.py:240] Need to generate 76 more steps for this sequence, will try asking for 46 RNN steps\n",
            "INFO:tensorflow:Beam search yields sequence with log-likelihood: -2455.284180 \n",
            "I0427 18:45:52.502540 140525530965888 events_rnn_model.py:381] Beam search yields sequence with log-likelihood: -2455.284180 \n",
            "INFO:tensorflow:Need to generate 1499 more steps for this sequence, will try asking for 900 RNN steps\n",
            "I0427 18:45:52.534677 140525530965888 performance_sequence_generator.py:240] Need to generate 1499 more steps for this sequence, will try asking for 900 RNN steps\n",
            "INFO:tensorflow:Beam search yields sequence with log-likelihood: -2719.284180 \n",
            "I0427 18:45:57.193916 140525530965888 events_rnn_model.py:381] Beam search yields sequence with log-likelihood: -2719.284180 \n",
            "INFO:tensorflow:Need to generate 1499 more steps for this sequence, will try asking for 900 RNN steps\n",
            "I0427 18:45:57.217770 140525530965888 performance_sequence_generator.py:240] Need to generate 1499 more steps for this sequence, will try asking for 900 RNN steps\n",
            "INFO:tensorflow:Beam search yields sequence with log-likelihood: -2737.459717 \n",
            "I0427 18:46:01.665481 140525530965888 events_rnn_model.py:381] Beam search yields sequence with log-likelihood: -2737.459717 \n",
            "INFO:tensorflow:Need to generate 1499 more steps for this sequence, will try asking for 900 RNN steps\n",
            "I0427 18:46:01.691300 140525530965888 performance_sequence_generator.py:240] Need to generate 1499 more steps for this sequence, will try asking for 900 RNN steps\n",
            "INFO:tensorflow:Beam search yields sequence with log-likelihood: -2683.031006 \n",
            "I0427 18:46:06.235286 140525530965888 events_rnn_model.py:381] Beam search yields sequence with log-likelihood: -2683.031006 \n",
            "INFO:tensorflow:Need to generate 1499 more steps for this sequence, will try asking for 900 RNN steps\n",
            "I0427 18:46:06.262569 140525530965888 performance_sequence_generator.py:240] Need to generate 1499 more steps for this sequence, will try asking for 900 RNN steps\n",
            "INFO:tensorflow:Beam search yields sequence with log-likelihood: -2444.122803 \n",
            "I0427 18:46:10.798733 140525530965888 events_rnn_model.py:381] Beam search yields sequence with log-likelihood: -2444.122803 \n",
            "INFO:tensorflow:Need to generate 60 more steps for this sequence, will try asking for 36 RNN steps\n",
            "I0427 18:46:10.799650 140525530965888 performance_sequence_generator.py:240] Need to generate 60 more steps for this sequence, will try asking for 36 RNN steps\n",
            "INFO:tensorflow:Beam search yields sequence with log-likelihood: -2543.310303 \n",
            "I0427 18:46:13.381662 140525530965888 events_rnn_model.py:381] Beam search yields sequence with log-likelihood: -2543.310303 \n",
            "INFO:tensorflow:Need to generate 1499 more steps for this sequence, will try asking for 900 RNN steps\n",
            "I0427 18:46:13.415402 140525530965888 performance_sequence_generator.py:240] Need to generate 1499 more steps for this sequence, will try asking for 900 RNN steps\n",
            "INFO:tensorflow:Beam search yields sequence with log-likelihood: -3028.499512 \n",
            "I0427 18:46:17.915912 140525530965888 events_rnn_model.py:381] Beam search yields sequence with log-likelihood: -3028.499512 \n",
            "INFO:tensorflow:Need to generate 1499 more steps for this sequence, will try asking for 900 RNN steps\n",
            "I0427 18:46:17.945192 140525530965888 performance_sequence_generator.py:240] Need to generate 1499 more steps for this sequence, will try asking for 900 RNN steps\n",
            "INFO:tensorflow:Beam search yields sequence with log-likelihood: -2779.328369 \n",
            "I0427 18:46:22.443578 140525530965888 events_rnn_model.py:381] Beam search yields sequence with log-likelihood: -2779.328369 \n",
            "INFO:tensorflow:Need to generate 1499 more steps for this sequence, will try asking for 900 RNN steps\n",
            "I0427 18:46:22.468868 140525530965888 performance_sequence_generator.py:240] Need to generate 1499 more steps for this sequence, will try asking for 900 RNN steps\n",
            "INFO:tensorflow:Beam search yields sequence with log-likelihood: -2594.756348 \n",
            "I0427 18:46:27.037263 140525530965888 events_rnn_model.py:381] Beam search yields sequence with log-likelihood: -2594.756348 \n",
            "INFO:tensorflow:Need to generate 380 more steps for this sequence, will try asking for 228 RNN steps\n",
            "I0427 18:46:27.038124 140525530965888 performance_sequence_generator.py:240] Need to generate 380 more steps for this sequence, will try asking for 228 RNN steps\n",
            "INFO:tensorflow:Beam search yields sequence with log-likelihood: -3114.533936 \n",
            "I0427 18:46:30.418375 140525530965888 events_rnn_model.py:381] Beam search yields sequence with log-likelihood: -3114.533936 \n",
            "INFO:tensorflow:Need to generate 148 more steps for this sequence, will try asking for 89 RNN steps\n",
            "I0427 18:46:30.422449 140525530965888 performance_sequence_generator.py:240] Need to generate 148 more steps for this sequence, will try asking for 89 RNN steps\n",
            "INFO:tensorflow:Beam search yields sequence with log-likelihood: -3305.453857 \n",
            "I0427 18:46:33.719758 140525530965888 events_rnn_model.py:381] Beam search yields sequence with log-likelihood: -3305.453857 \n",
            "INFO:tensorflow:Need to generate 24 more steps for this sequence, will try asking for 15 RNN steps\n",
            "I0427 18:46:33.722663 140525530965888 performance_sequence_generator.py:240] Need to generate 24 more steps for this sequence, will try asking for 15 RNN steps\n",
            "INFO:tensorflow:Beam search yields sequence with log-likelihood: -3330.467529 \n",
            "I0427 18:46:36.812084 140525530965888 events_rnn_model.py:381] Beam search yields sequence with log-likelihood: -3330.467529 \n",
            "INFO:tensorflow:Need to generate 16 more steps for this sequence, will try asking for 10 RNN steps\n",
            "I0427 18:46:36.815103 140525530965888 performance_sequence_generator.py:240] Need to generate 16 more steps for this sequence, will try asking for 10 RNN steps\n",
            "INFO:tensorflow:Beam search yields sequence with log-likelihood: -3357.538818 \n",
            "I0427 18:46:39.915903 140525530965888 events_rnn_model.py:381] Beam search yields sequence with log-likelihood: -3357.538818 \n",
            "INFO:tensorflow:Need to generate 1499 more steps for this sequence, will try asking for 900 RNN steps\n",
            "I0427 18:46:39.957891 140525530965888 performance_sequence_generator.py:240] Need to generate 1499 more steps for this sequence, will try asking for 900 RNN steps\n",
            "INFO:tensorflow:Beam search yields sequence with log-likelihood: -2425.437988 \n",
            "I0427 18:46:44.470838 140525530965888 events_rnn_model.py:381] Beam search yields sequence with log-likelihood: -2425.437988 \n",
            "INFO:tensorflow:Need to generate 52 more steps for this sequence, will try asking for 32 RNN steps\n",
            "I0427 18:46:44.471732 140525530965888 performance_sequence_generator.py:240] Need to generate 52 more steps for this sequence, will try asking for 32 RNN steps\n",
            "INFO:tensorflow:Beam search yields sequence with log-likelihood: -2483.569580 \n",
            "I0427 18:46:46.906831 140525530965888 events_rnn_model.py:381] Beam search yields sequence with log-likelihood: -2483.569580 \n",
            "INFO:tensorflow:Need to generate 16 more steps for this sequence, will try asking for 10 RNN steps\n",
            "I0427 18:46:46.909819 140525530965888 performance_sequence_generator.py:240] Need to generate 16 more steps for this sequence, will try asking for 10 RNN steps\n",
            "INFO:tensorflow:Beam search yields sequence with log-likelihood: -2503.054688 \n",
            "I0427 18:46:49.231453 140525530965888 events_rnn_model.py:381] Beam search yields sequence with log-likelihood: -2503.054688 \n",
            "INFO:tensorflow:Need to generate 1499 more steps for this sequence, will try asking for 900 RNN steps\n",
            "I0427 18:46:49.262947 140525530965888 performance_sequence_generator.py:240] Need to generate 1499 more steps for this sequence, will try asking for 900 RNN steps\n",
            "INFO:tensorflow:Beam search yields sequence with log-likelihood: -2647.441162 \n",
            "I0427 18:46:53.796836 140525530965888 events_rnn_model.py:381] Beam search yields sequence with log-likelihood: -2647.441162 \n",
            "INFO:tensorflow:Need to generate 1499 more steps for this sequence, will try asking for 900 RNN steps\n",
            "I0427 18:46:53.819383 140525530965888 performance_sequence_generator.py:240] Need to generate 1499 more steps for this sequence, will try asking for 900 RNN steps\n",
            "INFO:tensorflow:Beam search yields sequence with log-likelihood: -2518.859131 \n",
            "I0427 18:46:58.346494 140525530965888 events_rnn_model.py:381] Beam search yields sequence with log-likelihood: -2518.859131 \n",
            "INFO:tensorflow:Need to generate 1499 more steps for this sequence, will try asking for 900 RNN steps\n",
            "I0427 18:46:58.371325 140525530965888 performance_sequence_generator.py:240] Need to generate 1499 more steps for this sequence, will try asking for 900 RNN steps\n",
            "INFO:tensorflow:Beam search yields sequence with log-likelihood: -2729.517334 \n",
            "I0427 18:47:02.956182 140525530965888 events_rnn_model.py:381] Beam search yields sequence with log-likelihood: -2729.517334 \n",
            "INFO:tensorflow:Need to generate 6 more steps for this sequence, will try asking for 4 RNN steps\n",
            "I0427 18:47:02.957123 140525530965888 performance_sequence_generator.py:240] Need to generate 6 more steps for this sequence, will try asking for 4 RNN steps\n",
            "INFO:tensorflow:Beam search yields sequence with log-likelihood: -2735.389404 \n",
            "I0427 18:47:05.324612 140525530965888 events_rnn_model.py:381] Beam search yields sequence with log-likelihood: -2735.389404 \n",
            "INFO:tensorflow:Need to generate 6 more steps for this sequence, will try asking for 4 RNN steps\n",
            "I0427 18:47:05.327354 140525530965888 performance_sequence_generator.py:240] Need to generate 6 more steps for this sequence, will try asking for 4 RNN steps\n",
            "INFO:tensorflow:Beam search yields sequence with log-likelihood: -2741.593506 \n",
            "I0427 18:47:07.755574 140525530965888 events_rnn_model.py:381] Beam search yields sequence with log-likelihood: -2741.593506 \n",
            "INFO:tensorflow:Need to generate 5 more steps for this sequence, will try asking for 3 RNN steps\n",
            "I0427 18:47:07.758213 140525530965888 performance_sequence_generator.py:240] Need to generate 5 more steps for this sequence, will try asking for 3 RNN steps\n",
            "INFO:tensorflow:Beam search yields sequence with log-likelihood: -2745.600586 \n",
            "I0427 18:47:10.191118 140525530965888 events_rnn_model.py:381] Beam search yields sequence with log-likelihood: -2745.600586 \n",
            "INFO:tensorflow:Need to generate 5 more steps for this sequence, will try asking for 3 RNN steps\n",
            "I0427 18:47:10.193676 140525530965888 performance_sequence_generator.py:240] Need to generate 5 more steps for this sequence, will try asking for 3 RNN steps\n",
            "INFO:tensorflow:Beam search yields sequence with log-likelihood: -2752.862549 \n",
            "I0427 18:47:12.631230 140525530965888 events_rnn_model.py:381] Beam search yields sequence with log-likelihood: -2752.862549 \n",
            "INFO:tensorflow:Need to generate 5 more steps for this sequence, will try asking for 3 RNN steps\n",
            "I0427 18:47:12.634007 140525530965888 performance_sequence_generator.py:240] Need to generate 5 more steps for this sequence, will try asking for 3 RNN steps\n",
            "INFO:tensorflow:Beam search yields sequence with log-likelihood: -2760.633789 \n",
            "I0427 18:47:15.036016 140525530965888 events_rnn_model.py:381] Beam search yields sequence with log-likelihood: -2760.633789 \n",
            "INFO:tensorflow:Need to generate 3 more steps for this sequence, will try asking for 2 RNN steps\n",
            "I0427 18:47:15.038686 140525530965888 performance_sequence_generator.py:240] Need to generate 3 more steps for this sequence, will try asking for 2 RNN steps\n",
            "INFO:tensorflow:Beam search yields sequence with log-likelihood: -2766.638672 \n",
            "I0427 18:47:17.351926 140525530965888 events_rnn_model.py:381] Beam search yields sequence with log-likelihood: -2766.638672 \n",
            "INFO:tensorflow:Need to generate 3 more steps for this sequence, will try asking for 2 RNN steps\n",
            "I0427 18:47:17.354637 140525530965888 performance_sequence_generator.py:240] Need to generate 3 more steps for this sequence, will try asking for 2 RNN steps\n",
            "INFO:tensorflow:Beam search yields sequence with log-likelihood: -2768.085938 \n",
            "I0427 18:47:19.672665 140525530965888 events_rnn_model.py:381] Beam search yields sequence with log-likelihood: -2768.085938 \n",
            "INFO:tensorflow:Need to generate 3 more steps for this sequence, will try asking for 2 RNN steps\n",
            "I0427 18:47:19.675363 140525530965888 performance_sequence_generator.py:240] Need to generate 3 more steps for this sequence, will try asking for 2 RNN steps\n",
            "INFO:tensorflow:Beam search yields sequence with log-likelihood: -2777.569092 \n",
            "I0427 18:47:22.090017 140525530965888 events_rnn_model.py:381] Beam search yields sequence with log-likelihood: -2777.569092 \n",
            "INFO:tensorflow:Need to generate 3 more steps for this sequence, will try asking for 2 RNN steps\n",
            "I0427 18:47:22.092788 140525530965888 performance_sequence_generator.py:240] Need to generate 3 more steps for this sequence, will try asking for 2 RNN steps\n",
            "INFO:tensorflow:Beam search yields sequence with log-likelihood: -2783.654541 \n",
            "I0427 18:47:24.537047 140525530965888 events_rnn_model.py:381] Beam search yields sequence with log-likelihood: -2783.654541 \n",
            "INFO:tensorflow:Need to generate 1 more steps for this sequence, will try asking for 1 RNN steps\n",
            "I0427 18:47:24.539761 140525530965888 performance_sequence_generator.py:240] Need to generate 1 more steps for this sequence, will try asking for 1 RNN steps\n",
            "INFO:tensorflow:Beam search yields sequence with log-likelihood: -2786.896729 \n",
            "I0427 18:47:26.957095 140525530965888 events_rnn_model.py:381] Beam search yields sequence with log-likelihood: -2786.896729 \n",
            "INFO:tensorflow:Need to generate 1 more steps for this sequence, will try asking for 1 RNN steps\n",
            "I0427 18:47:26.959788 140525530965888 performance_sequence_generator.py:240] Need to generate 1 more steps for this sequence, will try asking for 1 RNN steps\n",
            "INFO:tensorflow:Beam search yields sequence with log-likelihood: -2787.656738 \n",
            "I0427 18:47:29.362499 140525530965888 events_rnn_model.py:381] Beam search yields sequence with log-likelihood: -2787.656738 \n",
            "INFO:tensorflow:Need to generate 1499 more steps for this sequence, will try asking for 900 RNN steps\n",
            "I0427 18:47:29.395733 140525530965888 performance_sequence_generator.py:240] Need to generate 1499 more steps for this sequence, will try asking for 900 RNN steps\n",
            "INFO:tensorflow:Beam search yields sequence with log-likelihood: -2610.491211 \n",
            "I0427 18:47:33.953017 140525530965888 events_rnn_model.py:381] Beam search yields sequence with log-likelihood: -2610.491211 \n",
            "INFO:tensorflow:Need to generate 1499 more steps for this sequence, will try asking for 900 RNN steps\n",
            "I0427 18:47:34.002001 140525530965888 performance_sequence_generator.py:240] Need to generate 1499 more steps for this sequence, will try asking for 900 RNN steps\n",
            "INFO:tensorflow:Beam search yields sequence with log-likelihood: -2371.984375 \n",
            "I0427 18:47:38.557422 140525530965888 events_rnn_model.py:381] Beam search yields sequence with log-likelihood: -2371.984375 \n",
            "INFO:tensorflow:Need to generate 1499 more steps for this sequence, will try asking for 900 RNN steps\n",
            "I0427 18:47:38.582695 140525530965888 performance_sequence_generator.py:240] Need to generate 1499 more steps for this sequence, will try asking for 900 RNN steps\n",
            "INFO:tensorflow:Beam search yields sequence with log-likelihood: -2509.188721 \n",
            "I0427 18:47:43.117691 140525530965888 events_rnn_model.py:381] Beam search yields sequence with log-likelihood: -2509.188721 \n",
            "INFO:tensorflow:Wrote 15 MIDI files to ./model_out/iter1/\n",
            "I0427 18:47:43.139103 140525530965888 performance_rnn_generate.py:251] Wrote 15 MIDI files to ./model_out/iter1/\n"
          ],
          "name": "stdout"
        }
      ]
    },
    {
      "cell_type": "markdown",
      "metadata": {
        "id": "RXBBwUoJ9Ebb"
      },
      "source": [
        "# QC part \n",
        "\n",
        "will convert .mid files into .mp3 with QC added and store into the directory QC_out"
      ]
    },
    {
      "cell_type": "code",
      "metadata": {
        "id": "QQcZuORa9DQG"
      },
      "source": [
        "!pip install gTTS\n",
        "!pip install pydub\n",
        "!pip install midi2audio\n",
        "!apt install fluidsynth\n",
        "!cp /usr/share/sounds/sf2/FluidR3_GM.sf2 ./font.sf2"
      ],
      "execution_count": null,
      "outputs": []
    },
    {
      "cell_type": "code",
      "metadata": {
        "id": "W4eQC-Gm9L4X"
      },
      "source": [
        "from gtts import gTTS \n",
        "from random import randint\n",
        "from pydub import AudioSegment\n",
        "from midi2audio import FluidSynth\n",
        "from IPython.display import Audio\n",
        "import pandas as pd\n",
        "import os\n",
        "from os import listdir\n",
        "from os.path import isfile, join"
      ],
      "execution_count": null,
      "outputs": []
    },
    {
      "cell_type": "code",
      "metadata": {
        "id": "LFuucqZO9wUA"
      },
      "source": [
        "mid_fps = [join(out_dir, f) for f in listdir(out_dir) if isfile(join(out_dir, f))]"
      ],
      "execution_count": null,
      "outputs": []
    },
    {
      "cell_type": "code",
      "metadata": {
        "id": "X0Eb096F-cUD"
      },
      "source": [
        "def getSpeech():\n",
        "  num = randint(10, 99)\n",
        "  text = \"Please enter\" + str(num) + \"into the textbox\"\n",
        "  language = 'en'\n",
        "  speech = gTTS(text = text, lang = language, slow = False)\n",
        "  return num, speech\n",
        "\n",
        "def combineMusicSpeech (midi_fp):\n",
        "  FluidSynth(\"font.sf2\").midi_to_audio(midi_fp, 'music.wav')\n",
        "  num, speech = getSpeech()\n",
        "  speech.save('text.mp3')\n",
        "  sound1 = AudioSegment.from_file('music.wav', format=\"wav\")\n",
        "  sound2 = AudioSegment.from_file(\"text.mp3\", format=\"mp3\")\n",
        "  combined = sound1 + sound2\n",
        "  return num, combined"
      ],
      "execution_count": null,
      "outputs": []
    },
    {
      "cell_type": "code",
      "metadata": {
        "id": "O05SYQdCBxG1"
      },
      "source": [
        "fps_nums = []\n",
        "for i, mid_fp in enumerate(mid_fps):\n",
        "  mid_fn = mid_fp.split('.')[1].split('/')[-1]\n",
        "  mp3_fn = mid_fn + \".mp3\"\n",
        "  num, combined = combineMusicSpeech(mid_fp)\n",
        "  combined.export(mp3_out_dir + mp3_fn, format=\"mp3\")\n",
        "  # change this output filepath to some github or web url + mp3_fp,\n",
        "  # and make sure to upload all files in the mp3_out_dir to that url \n",
        "  url = 'https://raw.github.com/selveszero/nets213final/main/data/mp3_files/iter' + str(iter_num) + '/'\n",
        "  mp3_fp = url + mp3_fn\n",
        "  fps_nums.append((mp3_fp, num))"
      ],
      "execution_count": null,
      "outputs": []
    },
    {
      "cell_type": "code",
      "metadata": {
        "id": "7fycp7tgDBU6"
      },
      "source": [
        "df = pd.DataFrame(fps_nums, columns = [\"audio_url\", \"number\"])\n",
        "df.to_csv(\"./QC_out/filepaths_and_numbers_iter\"+ str(iter_num) + \".csv\", index=False)"
      ],
      "execution_count": null,
      "outputs": []
    }
  ]
}